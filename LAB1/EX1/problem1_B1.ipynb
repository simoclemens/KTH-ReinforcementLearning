{
 "cells": [
  {
   "cell_type": "markdown",
   "metadata": {},
   "source": [
    "# LAB 1"
   ]
  },
  {
   "cell_type": "code",
   "execution_count": 1,
   "metadata": {
    "ExecuteTime": {
     "end_time": "2023-11-09T13:15:32.931952400Z",
     "start_time": "2023-11-09T13:15:32.900589300Z"
    }
   },
   "outputs": [
    {
     "data": {
      "text/plain": [
       "<module 'maze_S_Q' from '/mnt/F6C41197C4115AE7/Uni/Magistrale/RL/KTH-ReinforcementLearning/LAB1/EX1/maze_S_Q.py'>"
      ]
     },
     "execution_count": 1,
     "metadata": {},
     "output_type": "execute_result"
    }
   ],
   "source": [
    "from importlib import reload\n",
    "import numpy as np\n",
    "import maze_S_Q as mz\n",
    "reload(mz)"
   ]
  },
  {
   "cell_type": "code",
   "execution_count": 2,
   "metadata": {
    "ExecuteTime": {
     "end_time": "2023-11-09T13:07:31.945062100Z",
     "start_time": "2023-11-09T13:07:31.932064400Z"
    }
   },
   "outputs": [],
   "source": [
    "# Description of the maze as a numpy array\n",
    "maze = np.array([\n",
    "    [0, 0, 1, 0, 0, 0, 0, 3],\n",
    "    [0, 0, 1, 0, 0, 1, 0, 0],\n",
    "    [0, 0, 1, 0, 0, 1, 1, 1],\n",
    "    [0, 0, 1, 0, 0, 1, 0, 0],\n",
    "    [0, 0, 0, 0, 0, 0, 0, 0],\n",
    "    [0, 1, 1, 1, 1, 1, 1, 0],\n",
    "    [0, 0, 0, 0, 1, 2, 0, 0]\n",
    "])\n",
    "# with the convention\n",
    "# 0 = empty cell\n",
    "# 1 = obstacle\n",
    "# 2 = exit of the Maze & minotaur\n",
    "# 3 = key"
   ]
  },
  {
   "cell_type": "code",
   "execution_count": 3,
   "metadata": {
    "ExecuteTime": {
     "end_time": "2023-11-09T13:07:34.727120600Z",
     "start_time": "2023-11-09T13:07:34.150045800Z"
    }
   },
   "outputs": [
    {
     "data": {
      "image/png": "[encoded data removed]",
      "text/plain": [
       "<Figure size 800x700 with 1 Axes>"
      ]
     },
     "metadata": {},
     "output_type": "display_data"
    }
   ],
   "source": [
    "mz.draw_maze(maze)"
   ]
  },
  {
   "cell_type": "code",
   "execution_count": 24,
   "metadata": {
    "ExecuteTime": {
     "end_time": "2023-11-09T14:46:40.437501500Z",
     "start_time": "2023-11-09T14:46:40.163618400Z"
    }
   },
   "outputs": [],
   "source": [
    "# Create an environment maze\n",
    "reload(mz)\n",
    "env = mz.Maze(maze)\n",
    "\n",
    "# Train Q-learning\n",
    "Q = np.load('output_Q.npy')\n",
    "Q = env.simulate(method='Q-learning', testing=False)\n",
    "np.save('output_Q.npy', Q)\n"
   ]
  },
  {
   "cell_type": "code",
   "execution_count": 25,
   "metadata": {},
   "outputs": [
    {
     "name": "stdout",
     "output_type": "stream",
     "text": [
      "Win percentage: 73.818%\n",
      "Death by minotaur percentage: 0.0%\n",
      "Death by time percentage: 26.182000000000002%\n"
     ]
    }
   ],
   "source": [
    "reload(mz)\n",
    "env = mz.Maze(maze)\n",
    "\n",
    "# Simulate Q-learning\n",
    "Q = np.load('output_Q.npy')\n",
    "Q = env.simulate(Q = Q, method='Q-learning', testing=True)\n",
    "np.save('output_Q.npy', Q)"
   ]
  },
  {
   "cell_type": "code",
   "execution_count": 26,
   "metadata": {},
   "outputs": [],
   "source": [
    "reload(mz)\n",
    "env = mz.Maze(maze)\n",
    "\n",
    "# Train SARSA\n",
    "S = np.load('output_S.npy')\n",
    "S = env.simulate(method='SARSA', testing=False)\n",
    "np.save('output_S.npy', S)\n"
   ]
  },
  {
   "cell_type": "code",
   "execution_count": 27,
   "metadata": {},
   "outputs": [
    {
     "name": "stdout",
     "output_type": "stream",
     "text": [
      "Win percentage: 73.022%\n",
      "Death by minotaur percentage: 0.0%\n",
      "Death by time percentage: 26.978%\n"
     ]
    }
   ],
   "source": [
    "reload(mz)\n",
    "env = mz.Maze(maze)\n",
    "\n",
    "# Simulate Q-learning\n",
    "S = np.load('output_S.npy')\n",
    "S = env.simulate(Q=S, method='SARSA', testing=True)\n",
    "np.save('output_S.npy', S)"
   ]
  },
  {
   "cell_type": "code",
   "execution_count": null,
   "metadata": {},
   "outputs": [],
   "source": []
  },
  {
   "cell_type": "code",
   "execution_count": null,
   "metadata": {},
   "outputs": [],
   "source": []
  }
 ],
 "metadata": {
  "@webio": {
   "lastCommId": null,
   "lastKernelId": null
  },
  "kernelspec": {
   "display_name": "Python 3",
   "language": "python",
   "name": "python3"
  },
  "language_info": {
   "codemirror_mode": {
    "name": "ipython",
    "version": 3
   },
   "file_extension": ".py",
   "mimetype": "text/x-python",
   "name": "python",
   "nbconvert_exporter": "python",
   "pygments_lexer": "ipython3",
   "version": "3.12.0"
  }
 },
 "nbformat": 4,
 "nbformat_minor": 2
}
